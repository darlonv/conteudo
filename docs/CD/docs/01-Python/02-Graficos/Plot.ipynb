{
 "cells": [
  {
   "cell_type": "markdown",
   "id": "a4028296-aeb0-4235-b9c7-a3adbf83839f",
   "metadata": {},
   "source": [
    "# Matplotlib - Plot"
   ]
  },
  {
   "cell_type": "markdown",
   "id": "703d8628-b49a-480b-9ca5-a68554852aa6",
   "metadata": {
    "editable": true,
    "slideshow": {
     "slide_type": ""
    },
    "tags": []
   },
   "source": [
    "Matplotlib é uma biblioteca para visualização de dados, amplamente popular. Com ela é possível plotar gráficos e controlar diversos aspectos das figuras nela criadas.\n",
    "\n",
    "Importação\n",
    "\n",
    "```python\n",
    "import matplotlib.pyplot as plt\n",
    "```\n",
    "\n",
    "Também utilizaremos outras bibliotecas, para manipulação de dados, imagens e carregamento de arquivos.\n",
    "\n",
    "```python\n",
    "import numpy as np \n",
    "```\n",
    "\n",
    "**Atividade**\n",
    "- Importe a biblioteca matplotlib e as demais bibliotecas necessárias.\n"
   ]
  },
  {
   "cell_type": "code",
   "execution_count": null,
   "id": "67f7517b-7dbe-4b4f-a253-dba65c0128a8",
   "metadata": {
    "editable": true,
    "slideshow": {
     "slide_type": ""
    },
    "tags": [
     "remove-cell"
    ]
   },
   "outputs": [],
   "source": []
  },
  {
   "cell_type": "markdown",
   "id": "a3fa5c31-8841-4219-844a-ed1a8e83c7ef",
   "metadata": {},
   "source": [
    "**Exemplo**\n",
    "\n",
    "- Iniciaremos com dois *arrays* numpy, `x` e `y`.  \n",
    "\n",
    "```python\n",
    "x = np.linspace(0,10,20)//1\n",
    "y = x*x\n",
    "```\n",
    "\n",
    "**Atividade**\n",
    "- Crie os *arrays* `x` e `y` e observe o conteúdo deles."
   ]
  },
  {
   "cell_type": "code",
   "execution_count": null,
   "id": "e3116a01-355a-4763-911d-068464d93dfc",
   "metadata": {
    "editable": true,
    "slideshow": {
     "slide_type": ""
    },
    "tags": [
     "remove-cell"
    ]
   },
   "outputs": [],
   "source": []
  },
  {
   "cell_type": "markdown",
   "id": "c074ba39-39f1-4952-95ae-395f279b91fe",
   "metadata": {
    "editable": true,
    "slideshow": {
     "slide_type": ""
    },
    "tags": []
   },
   "source": [
    "## Gráficos\n",
    "\n",
    "Com os dados, podemos criar diferentes tipos de gráficos.\n",
    "\n",
    "### Dispersão\n",
    "\n",
    "O gráfico de dispersão (ou *scatter*) consiste em apresentar cada ponto definido. Fazemos isso com o uso do método `.scatter()`.\n",
    "\n",
    "**Exemplo**\n",
    "- Gráfico de *scatter* utilizando os *arrays* `x` e `y`.\n",
    "\n",
    "```python\n",
    "plt.scatter(x,y)\n",
    "plt.show()\n",
    "```"
   ]
  },
  {
   "cell_type": "code",
   "execution_count": null,
   "id": "1e697b6a-7b26-4e2d-81be-662419804a29",
   "metadata": {
    "editable": true,
    "slideshow": {
     "slide_type": ""
    },
    "tags": [
     "remove-cell"
    ]
   },
   "outputs": [],
   "source": []
  },
  {
   "cell_type": "markdown",
   "id": "a621fab1-bf9f-4c3b-81d8-16121ab70fe4",
   "metadata": {},
   "source": [
    "### Linhas\n",
    "\n",
    "Para elaborar um gráfico de linhas, utiliza-se o método `.plot()`. Será gerada uma linha a partir de cada ponto até o ponto seguinte.\n",
    "\n",
    "```python\n",
    "plt.plot(x,y)\n",
    "plt.show()\n",
    "```"
   ]
  },
  {
   "cell_type": "code",
   "execution_count": null,
   "id": "d98b8672-86cb-48ab-939a-b5808a736d0b",
   "metadata": {
    "editable": true,
    "slideshow": {
     "slide_type": ""
    },
    "tags": []
   },
   "outputs": [],
   "source": []
  },
  {
   "cell_type": "markdown",
   "id": "2158af55-7d3a-4608-8ae6-d52fced4cf5e",
   "metadata": {},
   "source": [
    "## Gráficos sobrepostos\n",
    "\n",
    "Também é possível gerar diversos gráficos em uma mesma imagem.\n",
    "\n",
    "```python\n",
    "plt.scatter(x,y)\n",
    "plt.plot(x,y)\n",
    "plt.show()\n",
    "```"
   ]
  },
  {
   "cell_type": "code",
   "execution_count": null,
   "id": "90d236fc-6f5e-42d1-850c-8950b5aeaf21",
   "metadata": {
    "editable": true,
    "slideshow": {
     "slide_type": ""
    },
    "tags": [
     "remove-cell"
    ]
   },
   "outputs": [],
   "source": []
  },
  {
   "cell_type": "markdown",
   "id": "896314f3-902a-4131-8375-d4d5b51849f4",
   "metadata": {},
   "source": [
    "## Personalização\n",
    "\n",
    "Os gráficos podem ser personalizados, permitindo que possam ser incluídos títulos, rótulos ou cores.\n",
    "\n",
    "### Título\n",
    "\n",
    "**Exemplo**  \n",
    "```python\n",
    "plt.plot(x,y)\n",
    "plt.title('x ao quadrado')\n",
    "plt.show()\n",
    "```"
   ]
  },
  {
   "cell_type": "code",
   "execution_count": null,
   "id": "fddc68a6-c1d6-414f-a25f-e5fc39f204c1",
   "metadata": {
    "editable": true,
    "slideshow": {
     "slide_type": ""
    },
    "tags": [
     "remove-cell"
    ]
   },
   "outputs": [],
   "source": []
  },
  {
   "cell_type": "markdown",
   "id": "c4b7b8d9-2f8f-4bbf-976c-f94f5bb266bc",
   "metadata": {},
   "source": [
    "### Rótulos\n",
    "Uma das possibilidades é definir rótulos para os eixos `x`, `y`.\n",
    "\n",
    "**Exemplo**\n",
    "\n",
    "```python\n",
    "plt.plot(x,y)\n",
    "plt.xlabel('Valor de x')\n",
    "plt.ylabel('Valor de y')\n",
    "plt.title('x ao quadrado')\n",
    "plt.show()\n",
    "```"
   ]
  },
  {
   "cell_type": "code",
   "execution_count": null,
   "id": "1b9e746f-74b0-4a8b-83c4-e18fd00a3ba8",
   "metadata": {
    "editable": true,
    "slideshow": {
     "slide_type": ""
    },
    "tags": [
     "remove-cell"
    ]
   },
   "outputs": [],
   "source": []
  },
  {
   "cell_type": "markdown",
   "id": "1634725d-c45b-4b1f-be17-61c05cf13585",
   "metadata": {},
   "source": [
    "### Cores\n",
    "\n",
    "É possível definir as cores utilizadas nos gráficos.\n",
    "\n",
    "```python\n",
    "plt.plot(x,y, 'r')\n",
    "plt.xlabel('Eixo x')\n",
    "plt.ylabel('Eixo y')\n",
    "plt.title('x ao quadrado, em vermelho')\n",
    "\n",
    "```"
   ]
  },
  {
   "cell_type": "code",
   "execution_count": null,
   "id": "361f4a0b-504d-4e85-a99d-e397e0ac99ed",
   "metadata": {
    "editable": true,
    "slideshow": {
     "slide_type": ""
    },
    "tags": [
     "remove-cell"
    ]
   },
   "outputs": [],
   "source": []
  },
  {
   "cell_type": "markdown",
   "id": "c387bfd8-97d1-4a31-9c5b-e21fb323dfbc",
   "metadata": {},
   "source": [
    "### Tipo das marcações\n",
    "\n",
    "Outra possibilidade é apresentar as linhas e pontos de diferentes formas.  \n",
    "\n",
    "**Exemplo**\n",
    "\n",
    "```python\n",
    "plt.plot(x,y, 'r--')  \n",
    "plt.xlabel('Eixo x')  \n",
    "plt.ylabel('Eixo y')  \n",
    "plt.title('x ao quadra, com linha vermelha e tracejada')\n",
    "```"
   ]
  },
  {
   "cell_type": "code",
   "execution_count": null,
   "id": "634416b3-d989-4db5-8e8b-c6eed8217088",
   "metadata": {
    "editable": true,
    "slideshow": {
     "slide_type": ""
    },
    "tags": [
     "remove-cell"
    ]
   },
   "outputs": [],
   "source": []
  },
  {
   "cell_type": "markdown",
   "id": "2ff7f5ab-3a97-4da2-bc71-b6be3fd1d7fc",
   "metadata": {},
   "source": [
    "Outra possibilidade é gerar diversos gráficos, organizados como uma matriz.  \n",
    "\n",
    "**Exemplo**\n",
    "```python\n",
    "plt.subplot(1,2,1)  # 1 linha e 2 colunas. Plotando na posicao 1\n",
    "plt.plot(x,y,'g--') # linha verde (green) tracejada\n",
    "plt.subplot(1,2,2)  # 1 linha e 2 colunas. Plotando na posicao 2\n",
    "plt.plot(y,x,'y*')  # linha amarela (yellow) com estrelas\n",
    "```\n",
    "**Atividade**\n",
    "- Inclua dois gráficos em uma única figura."
   ]
  },
  {
   "cell_type": "markdown",
   "id": "177250c6-1753-4cda-b903-78aae7725fcb",
   "metadata": {},
   "source": [
    "**Tamanho**\n",
    "\n",
    "Com o método `.figure()`, é possível gerenciar a criação de figuras, com diferentes parâmetros. Um parâmetro é o tamanho da figura com `figsize`, passando uma tupla com os tamanhos de `x` e `y` como parâmetro.\n",
    "\n",
    "**Exemplo**  \n",
    "```python\n",
    "fig = plt.figure(figsize=(2,4))\n",
    "plt.plot(x,y)  \n",
    "fig = plt.figure(figsize=(4,2))\n",
    "plt.plot(x,y)  \n",
    "fig = plt.figure(figsize=(1,1))\n",
    "plt.plot(x,y)  \n",
    "```\n",
    "**Atividade**\n",
    "- Crie figuras com diferentes tamanhos.\n",
    "\n",
    "Observe que os eixos do gráfico não são alterados, apenas as proporções da figura."
   ]
  },
  {
   "cell_type": "markdown",
   "id": "4cd6a457-dc26-4315-ba1b-9e38d347190b",
   "metadata": {},
   "source": [
    "### Múltiplos gráficos\n",
    "\n",
    "**Múltiplos gráficos na mesma figura**\n",
    "\n",
    "É possível incluir vários gráficos na mesma figura.  \n",
    "\n",
    "**Exemplo**\n",
    "```python\n",
    "fig = plt.figure()  \n",
    "plt.plot(x,y)  \n",
    "plt.plot(y,x)\n",
    "```\n",
    "**Atividade**\n",
    "- Crie uma figura que possua mais de um gráfico."
   ]
  },
  {
   "cell_type": "markdown",
   "id": "318de088-1735-48da-8b30-803ed770291e",
   "metadata": {},
   "source": [
    "Outra forma também é especificar qual o ponto de origem de cada gráfico.  \n",
    "**Exemplo**\n",
    "```python\n",
    "fig=plt.figure()  \n",
    "axes1 = fig.add_axes([0,0,1,1])  \n",
    "axes1.plot(x,y)  \n",
    "axes1.plot(y,x)\n",
    "```"
   ]
  },
  {
   "cell_type": "markdown",
   "id": "45bb9f5f-8781-4e81-bbce-501d43e9d323",
   "metadata": {},
   "source": [
    "### Subgraficos\n",
    "\n",
    "Diversos gráficos podem ser criados. Para tal, é necessário informar o ponto inicial do gráfico em relação à imagem original e o tamanho do novo gráfico.\n",
    "\n",
    "O método `add_axes()` informa a posição e tamanho do novo gráfico.\n",
    "\n",
    "**Exemplo**\n",
    "```python\n",
    "fig=plt.figure()  \n",
    "# começa em x=0 e y=0. O tamanho do subgráfico é igual à imagem original\n",
    "sg1 = fig.add_axes([0,0,1,1]) # O subgrafico 1 é criado\n",
    "sg1.plot(x,y)  #gráfico no subgrafico1\n",
    "sg1.plot(y,x)\n",
    "#começa em x=30% e y=70% da imagem original. O tamanho do subgráfico é de 40% da imagem original.\n",
    "sg2 = fig.add_axes([0.3,0.7,0.4,0.4]) # subgrafico 1 é criado\n",
    "sg2.plot(y,x) #gráfico no subgrafico2\n",
    "```"
   ]
  },
  {
   "cell_type": "code",
   "execution_count": null,
   "id": "11f0e96c-1df1-4dc6-941d-9c6154f85b51",
   "metadata": {
    "editable": true,
    "slideshow": {
     "slide_type": ""
    },
    "tags": [
     "remove-cell"
    ]
   },
   "outputs": [],
   "source": []
  },
  {
   "cell_type": "markdown",
   "id": "3169cf21-88ed-4866-b994-962debe784b7",
   "metadata": {},
   "source": [
    "**Atividade**\n",
    "\n",
    "- Modifique o código anterior até que todo o subgráfico esteja posicionado em uma parte do gráfico maior que não possua nada. Modifique o tamanho do sub-gráfico para ocupar um espaço maior."
   ]
  },
  {
   "cell_type": "code",
   "execution_count": null,
   "id": "3639147a-27a9-44dc-911e-18ef35607b6f",
   "metadata": {
    "editable": true,
    "slideshow": {
     "slide_type": ""
    },
    "tags": [
     "remove-cell"
    ]
   },
   "outputs": [],
   "source": []
  },
  {
   "cell_type": "markdown",
   "id": "80be5052-9a84-4214-be35-e9537c33680e",
   "metadata": {},
   "source": [
    "### Utilizando orientação a objetos\n",
    "\n",
    "Outra forma de utilizar o gráfico é utilizando o método `subplots()`, que retorna uma figura e os eixos, bastando setar os valores nos objetos retornados.  \n",
    "\n",
    "**Exemplo**  \n",
    "```python\n",
    "figura, eixos = plt.subplots()  \n",
    "eixos.plot(x, 2 * x, 'g*' )  \n",
    "eixos.plot(x, 3 * x, 'b.' )  \n",
    "eixos.set_xlabel('eixo x')  \n",
    "eixos.set_ylabel('eixo y')  \n",
    "eixos.set_title('Título do grafico')\n",
    "```\n",
    "\n",
    "\n",
    "\n",
    "\n",
    "\n",
    "**Múltiplos gráficos**\n",
    "\n",
    "Outra maneira de plotar diversos gráficos é utilizar a notação de orientação a objetos, identificado o número de linhas e colunas das imagens.\n",
    "\n",
    "**Exemplo**\n",
    "- Criando uma imagem com 4 gráficos, em 2 linhas e 2 colunas\n",
    "```python\n",
    "figura, e = plt.subplots(nrows=2, ncols=2)  \n",
    "e[0][0].plot(x,y,'g') #Gráfico na posição 0,0\n",
    "e[0][1].plot(x,y,'y') #Gráfico na posição 0,1\n",
    "e[1][0].plot(x,y,'r') #Gráfico na posição 1,0\n",
    "e[1][1].plot(x,y,'b') #Gráfico na posição 1,1\n",
    "```\n",
    "\n",
    "Execute e explique o resultado."
   ]
  },
  {
   "cell_type": "markdown",
   "id": "4e9eef5a-5f2f-4729-b25d-9ccf85c996f9",
   "metadata": {},
   "source": [
    "## Legendas\n",
    "\n",
    "O método `.legend()` possibilita mostrar a legenda na figura que possua múltiplos gráficos, indicando o conteúdo de cada gráfico. O conteúdo mostrado é informado pelo parâmetro `label`.  \n",
    "\n",
    "**Exemplo**\n",
    "- Figuras com legenda\n",
    "```python\n",
    "figura, eixos = plt.subplots()  \n",
    "eixos.plot(x, 2 * x, 'g*' , label='2 * x') #informa o conteúdo da legenda\n",
    "eixos.plot(x, 3 * x, 'b.' , label='3 * x') #informa o conteúdo da legenda \n",
    "eixos.set_xlabel('eixo x')  \n",
    "eixos.set_ylabel('eixo y')  \n",
    "eixos.set_title('Título do grafico')  \n",
    "eixos.legend()\n",
    "```"
   ]
  },
  {
   "cell_type": "code",
   "execution_count": null,
   "id": "3fee86ec-60a0-4a64-b3a6-8e0b25bbb47a",
   "metadata": {
    "editable": true,
    "slideshow": {
     "slide_type": ""
    },
    "tags": [
     "remove-cell"
    ]
   },
   "outputs": [],
   "source": []
  },
  {
   "cell_type": "markdown",
   "id": "e4a93059-41b5-429c-b86f-ac0227d6d458",
   "metadata": {},
   "source": [
    "**Exercício**\n",
    "\n",
    "Faça uma figura com gráficos de duas equações de segundo grau, do tipo $ax^2 + bx + c$ .\n",
    "- Na eq. A: \n",
    "    - $a=10$ \n",
    "    - $b=20$ \n",
    "    - $c=30$\n",
    "- Na eq. B:  \n",
    "    - $a=5$ \n",
    "    - $b=20$ \n",
    "    - $c=10$\n",
    "- Utilize $x$ de $-100$ a $100$, com $1000$ pontos.\n",
    "- Inclua legenda de cada função plotada no gráfico."
   ]
  },
  {
   "cell_type": "code",
   "execution_count": null,
   "id": "641e5286-0507-47ec-bfe9-2deeccdfc71c",
   "metadata": {
    "editable": true,
    "slideshow": {
     "slide_type": ""
    },
    "tags": [
     "remove-cell"
    ]
   },
   "outputs": [],
   "source": []
  },
  {
   "cell_type": "markdown",
   "id": "d0d795dd-2d09-4a1b-a050-8013edd75eff",
   "metadata": {},
   "source": [
    "No método `.legend()`, o parâmetro `loc` pode ser utilizado para posicionar a legenda no gráfico\n",
    "\n",
    "**Exercício**\n",
    "\n",
    "- Inclua no método `legend` o parâmetro `loc=i`, variando os valores de `i` e observe o resultado. Inicie com `i=0` ."
   ]
  },
  {
   "cell_type": "code",
   "execution_count": null,
   "id": "f5b13154-de6e-470d-9db7-f6cc1ce6f275",
   "metadata": {
    "editable": true,
    "slideshow": {
     "slide_type": ""
    },
    "tags": [
     "remove-cell"
    ]
   },
   "outputs": [],
   "source": []
  },
  {
   "cell_type": "markdown",
   "id": "0c57f598-8727-4e5f-8b4e-2a259e2dad2f",
   "metadata": {},
   "source": [
    "## Exportando\n",
    "\n",
    "O método savefig salva a figura, utilizando o formato de imagem passado como parametro no nome do arquivo\n",
    "\n",
    "```python\n",
    "fig.savefig('grafico.png')\n",
    "```"
   ]
  },
  {
   "cell_type": "code",
   "execution_count": null,
   "id": "c4fe6502-892e-4b81-9a94-0c1a91468383",
   "metadata": {
    "editable": true,
    "slideshow": {
     "slide_type": ""
    },
    "tags": [
     "remove-cell"
    ]
   },
   "outputs": [],
   "source": []
  },
  {
   "cell_type": "markdown",
   "id": "c4ea56e9-8419-4bca-97ec-37bfa70305c4",
   "metadata": {},
   "source": [
    "## Outros gráficos\n",
    "\n",
    "### Barras\n",
    "\n",
    "**Exemplo**  \n",
    "\n",
    "```python\n",
    "fig = plt.figure()\n",
    "linguagens = ['Python', 'Javascript', 'Java', 'C#', 'C/C++', 'R', 'PHP']\n",
    "usuarios   = [31.02,     8.41,        16.38,  6.52,  5.56,   4.26, 5.83 ]\n",
    "plt.bar(linguagens, usuarios)\n",
    "plt.show()\n",
    "```"
   ]
  },
  {
   "cell_type": "code",
   "execution_count": null,
   "id": "746b9d9e-4825-42b9-b923-e94c5b673a90",
   "metadata": {
    "editable": true,
    "slideshow": {
     "slide_type": ""
    },
    "tags": [
     "remove-cell"
    ]
   },
   "outputs": [],
   "source": []
  },
  {
   "cell_type": "markdown",
   "id": "e10e76b4-ac17-45f1-affd-f4f775130adb",
   "metadata": {},
   "source": [
    "Outras variações dos gráficos de barras também são bastante utilizadas, utilizando barras empilhadas e diferentes barras para expressar características de conjunto.\n",
    "\n",
    "**Exemplo**\n",
    "- Barras empilhadas\n",
    "\n",
    "```python\n",
    "fig = plt.figure()\n",
    "turmas   = ['T1', 'T2', 'T3', 'T4', 'T5'] #Turmas\n",
    "homens   = [25, 29, 11, 19, 26] #número de homens nas turmas\n",
    "mulheres = [16, 11, 20, 25, 4 ] #número de mulheres\n",
    "\n",
    "#plota as barras referente ao número de homens\n",
    "plt.bar(turmas, homens, label='Homens')  \n",
    "#plotas a parte das barras referente o número de mulheres\n",
    "#bottom indica acima de qual posição a barra deve ser plotada\n",
    "plt.bar(turmas, mulheres, bottom= homens, label='Mulheres')\n",
    "\n",
    "plt.legend() #mostra legenda\n",
    "plt.show() #mostra o gráfico\n",
    "```"
   ]
  },
  {
   "cell_type": "code",
   "execution_count": null,
   "id": "47c097d8-c83d-4e32-bc42-fc33aae73434",
   "metadata": {
    "editable": true,
    "slideshow": {
     "slide_type": ""
    },
    "tags": [
     "remove-cell"
    ]
   },
   "outputs": [],
   "source": []
  },
  {
   "cell_type": "markdown",
   "id": "21e2b37a-68fc-44d8-aa09-fe52d6c408c1",
   "metadata": {},
   "source": [
    "### Histogramas\n",
    "\n",
    "Os histogramas são gráficos utilizados para representação de frequências de elementos em determinados conjuntos.\n",
    "\n",
    "**Exemplo**\n",
    "- Idades de alunos em uma turma  \n",
    "\n",
    "```python\n",
    "idades = [18, 17, 18, 19, 20, 16, 17, 21, 19, 23, 18, 24, 20, 20,  18, 17, 16, 20, 23, 22, 23, 16, 17, 18, 19, 18, 19, 18, 25, 19, 19, 18, 17, 16]\n",
    "ax = plt.hist(idades, bins=10)\n",
    "plt.show()\n",
    "```"
   ]
  },
  {
   "cell_type": "code",
   "execution_count": null,
   "id": "b7ccbb48-483f-4878-9073-98bcc3139c6b",
   "metadata": {
    "editable": true,
    "slideshow": {
     "slide_type": ""
    },
    "tags": [
     "remove-cell"
    ]
   },
   "outputs": [],
   "source": []
  },
  {
   "cell_type": "markdown",
   "id": "4d9cf33c-bf94-4b62-aa25-5395107bce7f",
   "metadata": {},
   "source": [
    "O parâmetro `bins` indica o tamanho do faixa das amostras de contagem que deve ser considerada. Valores maiores indicam mais precisão, e valores menores mais valores são considerados em uma mesma faixa.\n",
    "\n",
    "**Atividade**\n",
    "- teste o parâmetro `bins` com os valores apresentados a seguir, e explique o ocorrido.\n",
    "    - 2\n",
    "    - 5\n",
    "    - 30"
   ]
  },
  {
   "cell_type": "code",
   "execution_count": null,
   "id": "c0f9e340-5992-40bc-b68a-be4ed5780712",
   "metadata": {
    "editable": true,
    "slideshow": {
     "slide_type": ""
    },
    "tags": [
     "remove-cell"
    ]
   },
   "outputs": [],
   "source": []
  },
  {
   "cell_type": "markdown",
   "id": "c10f8339-c41a-4efa-a679-06bcebb52013",
   "metadata": {},
   "source": [
    "Os histogramas também podem ser bidimensionais, onde as frequências são representadas por cores.\n",
    "\n",
    "**Exemplo**  \n",
    "\n",
    "```python\n",
    "idades  = [18, 17, 18, 19, 20, 16, 17, 21, 19, 23, 18, 24, 20, 20,  18, 17, 16, 20, 23, 22, 23, 16, 17, 18, 19, 18, 19, 18, 25, 19, 19, 18, 17, 16]\n",
    "alturas = [170, 162, 171, 172, 165, 174, 164, 164, 171, 166, 173, 159, 175, 158, 165, 155, 162, 158, 176, 179, 179, 179, 156, 156, 161, 178, 161, 173, 178, 174, 165, 175, 175, 162]\n",
    "ax = plt.hist2d(idades, alturas)\n",
    "ax = plt.colorbar() #barra de cores, para comparação de valores\n",
    "plt.show()\n",
    "```"
   ]
  },
  {
   "cell_type": "code",
   "execution_count": null,
   "id": "52c64d91-2f3e-4efa-9d40-956614813e68",
   "metadata": {
    "editable": true,
    "slideshow": {
     "slide_type": ""
    },
    "tags": [
     "remove-cell"
    ]
   },
   "outputs": [],
   "source": []
  },
  {
   "cell_type": "markdown",
   "id": "372e733b-c292-457c-a185-d2c293b580ba",
   "metadata": {},
   "source": [
    "**Atividade**\n",
    "- Observando o gráfico, as pessoas com 23 e 24 anos do conjunto apresentado no exemplo, são mais altas ou mais baixas?"
   ]
  },
  {
   "cell_type": "code",
   "execution_count": null,
   "id": "71987805-9fdf-4362-a038-69763c461552",
   "metadata": {
    "editable": true,
    "slideshow": {
     "slide_type": ""
    },
    "tags": [
     "remove-cell"
    ]
   },
   "outputs": [],
   "source": []
  },
  {
   "cell_type": "markdown",
   "id": "d875dd6a-e560-46a6-b7c3-00cd5618634e",
   "metadata": {
    "editable": true,
    "slideshow": {
     "slide_type": ""
    },
    "tags": []
   },
   "source": [
    "#### Imagens\n",
    "Histogramas de imagens são bastante conhecidos, visto que pela sua interpretação é possível obter informações das imagens como contraste e brilho, entre outros.\n",
    "\n",
    "Para estes exemplos será necessário importar bibliotecas adicionais para o *download* e manipulação de imagens.\n",
    "\n",
    "```python\n",
    "import pandas as pd\n",
    "from PIL import Image #manipulação de imagens\n",
    "import urllib.request as urllib2 #download de arquivos\n",
    "```"
   ]
  },
  {
   "cell_type": "code",
   "execution_count": null,
   "id": "3ae023cb-d751-4e70-93e9-df8fac6d9207",
   "metadata": {
    "editable": true,
    "slideshow": {
     "slide_type": ""
    },
    "tags": []
   },
   "outputs": [],
   "source": []
  },
  {
   "cell_type": "markdown",
   "id": "6ebca69f-51c7-4394-aca5-2b218527d466",
   "metadata": {
    "editable": true,
    "slideshow": {
     "slide_type": ""
    },
    "tags": []
   },
   "source": [
    "Outra maneira de realizar um histograma é utilizar métodos da biblioteca PIL para contagem das frequências, e então utilizar gráficos de linhas para apresentar os valores do histograma.\n",
    "\n",
    "**Exemplo**  \n",
    "\n",
    "```python\n",
    "img = plt.figure()\n",
    "#carrega a imagem de uma URL como arquivo\n",
    "url='https://upload.wikimedia.org/wikipedia/commons/thumb/c/c3/Snowy_%C3%85reskutan_Ski_lift.jpg/640px-Snowy_%C3%85reskutan_Ski_lift.jpg' #link para a imagem\n",
    "f = urllib2.urlopen(url) #abre a imagem\n",
    "#abre a imagem\n",
    "imagem = Image.open(f)\n",
    "#mostra a imagem\n",
    "plt.imshow(imagem)\n",
    "img = plt.figure()\n",
    "#observa as frequências utilizando PIL\n",
    "hist = imagem.histogram() #retorna uma lista unidimensional. Biblioteca PIL já calcula valores de histograma\n",
    "#como são 3 canais, convém colocar cada canal em uma linha de um array numpy\n",
    "hist = np.array(hist).reshape((3,-1))\n",
    "#apresenta o histograma utilizando gráfico de linhas\n",
    "plt.plot(hist[0],'r') #red\n",
    "plt.plot(hist[1],'g') #green\n",
    "plt.plot(hist[2],'b') #blue\n",
    "plt.show()\n",
    "```"
   ]
  },
  {
   "cell_type": "code",
   "execution_count": null,
   "id": "37751af0-f1da-4032-912e-669cfd396c3e",
   "metadata": {
    "editable": true,
    "slideshow": {
     "slide_type": ""
    },
    "tags": [
     "remove-cell"
    ]
   },
   "outputs": [],
   "source": []
  },
  {
   "cell_type": "markdown",
   "id": "52eb210a-776a-4479-9eb3-80f3d3bea930",
   "metadata": {},
   "source": [
    "**Atividade** \n",
    "- As cores são predominantes em qual faixa de valores?\n",
    "    - Alta ou baixa?\n",
    "        - A imagem é clara ou escura?\n",
    "- Observe os dados retornados pelo método `.histogram()`. \n",
    "    - Qual é o *shape* dos dados?\n",
    "    - Plote um gráfico de linhas com este resultado (sem *reshape*), e compare com o resultado do exemplo."
   ]
  },
  {
   "cell_type": "code",
   "execution_count": null,
   "id": "1c935343-cb1c-4098-9a31-e8297968d606",
   "metadata": {
    "editable": true,
    "slideshow": {
     "slide_type": ""
    },
    "tags": [
     "remove-cell"
    ]
   },
   "outputs": [],
   "source": []
  },
  {
   "cell_type": "markdown",
   "id": "cb050674-f220-41f2-8593-ca57f3bbbb2f",
   "metadata": {},
   "source": [
    "**Atividade**  \n",
    "\n",
    "- Execute o explique o código abaixo\n",
    "```python\n",
    "img = plt.figure()\n",
    "url='https://upload.wikimedia.org/wikipedia/commons/thumb/c/c3/Snowy_%C3%85reskutan_Ski_lift.jpg/640px-Snowy_%C3%85reskutan_Ski_lift.jpg'\n",
    "f = urllib2.urlopen(url)\n",
    "imagem = Image.open(f).convert('L')\n",
    "plt.imshow(imagem, cmap='gray')\n",
    "img = plt.figure()\n",
    "hist = imagem.histogram() \n",
    "plt.plot(hist,'k')\n",
    "plt.show()\n",
    "```"
   ]
  },
  {
   "cell_type": "code",
   "execution_count": null,
   "id": "db9be88f-8ca7-4e8f-be50-9bddd191b217",
   "metadata": {
    "editable": true,
    "slideshow": {
     "slide_type": ""
    },
    "tags": [
     "remove-cell"
    ]
   },
   "outputs": [],
   "source": []
  },
  {
   "cell_type": "markdown",
   "id": "473d7982-0140-43d8-bc9c-cd5c85f678a7",
   "metadata": {},
   "source": [
    "- Responda também:\n",
    "    - Qual é o *shape* dos dados?\n",
    "    - O que é o `.convert('L')`.\n",
    "    - Por que há uma única linha no histograma?"
   ]
  },
  {
   "cell_type": "code",
   "execution_count": null,
   "id": "d5fe68fe-9592-4670-9737-f84e773c7d35",
   "metadata": {
    "editable": true,
    "slideshow": {
     "slide_type": ""
    },
    "tags": [
     "remove-cell"
    ]
   },
   "outputs": [],
   "source": []
  },
  {
   "cell_type": "markdown",
   "id": "3e688a44-d71d-4793-b6af-09827e4a5869",
   "metadata": {},
   "source": [
    "**Atividade**\n",
    "- No exemplo, modifique a URL da imagem e obverve o histograma.\n",
    "    - `https://upload.wikimedia.org/wikipedia/commons/thumb/2/22/New_York_City_at_night_HDR.jpg/640px-New_York_City_at_night_HDR.jpg`\n",
    "    - `https://upload.wikimedia.org/wikipedia/commons/thumb/5/58/Vultures_in_the_nest%2C_Orchha%2C_MP%2C_India.jpg/640px-Vultures_in_the_nest%2C_Orchha%2C_MP%2C_India.jpg`\n",
    "    - `https://upload.wikimedia.org/wikipedia/commons/thumb/3/33/Dead_Sea_sunrise.jpg/640px-Dead_Sea_sunrise.jpg`\n",
    "    - `https://upload.wikimedia.org/wikipedia/commons/thumb/f/f5/Lanz_Bulldog_gets_started.JPG/480px-Lanz_Bulldog_gets_started.JPG`  \n",
    "    \n",
    "- Obtenha três imagens, o observe seu histograma."
   ]
  },
  {
   "cell_type": "markdown",
   "id": "8a604c99-d45b-4d3d-8368-e890b9d2e4ae",
   "metadata": {},
   "source": [
    "### Dispersão (*scatter*)\n",
    "\n",
    "Os gráficos de dispersão consistem em apresentar pontos em um plano. Os pontos podem ser configurados de acordo com a necessidade.\n",
    "\n",
    "**Exemplo**\n",
    "\n",
    "```python\n",
    "fig = plt.figure()\n",
    "xa = np.random.randint(0,100, size=(100))\n",
    "ya = np.random.randint(0,100, size=(100))\n",
    "xb = np.random.randint(10,30, size=(20))\n",
    "yb = np.random.randint(10,30, size=(20))\n",
    "xc = np.random.randint(40,90, size=(40))\n",
    "yc = np.random.randint(40,90, size=(40))\n",
    "\n",
    "plt.scatter(xa,ya, c='c', label='A')\n",
    "plt.scatter(xb,yb, c='k', label='B')\n",
    "plt.scatter(xc,yc, c='r', label='C')\n",
    "plt.legend()\n",
    "plt.show()\n",
    "```"
   ]
  },
  {
   "cell_type": "code",
   "execution_count": null,
   "id": "9e053bac-d559-4604-8a86-14b36598cdcb",
   "metadata": {
    "editable": true,
    "slideshow": {
     "slide_type": ""
    },
    "tags": [
     "remove-cell"
    ]
   },
   "outputs": [],
   "source": []
  },
  {
   "cell_type": "markdown",
   "id": "306ffb16-d6e0-4137-b1ba-921706dd9baa",
   "metadata": {},
   "source": [
    "### Pizza\n",
    "\n",
    "O gráfico de pizza é utilizado para expressar o quanto determinadas quantidades fazem parte de um todo.\n",
    "\n",
    "**Exemplo**  \n",
    "\n",
    "```python\n",
    "fig = plt.figure()\n",
    "linguagens = ['Python', 'Javascript', 'Java', 'C#', 'C/C++', 'R', 'PHP' ]\n",
    "porcent =    [31.02,      8.41,         16.38,   6.52, 5.56,    4.26, 5.83 ]\n",
    "linguagens.append('Outras')\n",
    "porcent.append(100 - sum(porcent))\n",
    "ax = plt.pie(porcent, labels=linguagens)\n",
    "plt.show()\n",
    "```"
   ]
  },
  {
   "cell_type": "code",
   "execution_count": null,
   "id": "7efbedd2-e4c7-4335-91dc-ecaec85c2ca1",
   "metadata": {
    "editable": true,
    "slideshow": {
     "slide_type": ""
    },
    "tags": [
     "remove-cell"
    ]
   },
   "outputs": [],
   "source": []
  },
  {
   "cell_type": "markdown",
   "id": "6d8086a7-d486-466a-b08d-5ca6f10566a3",
   "metadata": {
    "editable": true,
    "slideshow": {
     "slide_type": ""
    },
    "tags": []
   },
   "source": [
    "### Boxplot\n",
    "\n",
    "O gráfico de boxplot, ou diagrama de caixa consiste permite observar como os dados estão distribuídos. Em sua base. Os dados do conjunto são dividos em 4 partes, onde cada parte (*quartil*) corresponde a 25% dos dados do conjunto. No gráfico são mostrados onde estão os valores correspondentes a cada quartil, e sua distribuição pelo conjunto. As marcações superiores e inferiores são valores considerados discrepantes do conjunto, chamados de *outliers*.\n",
    "\n",
    "\n",
    "**Exemplo**  \n",
    "\n",
    "```python\n",
    "data  = np.random.randint(10, 30, 200) \n",
    "data1 = np.append(data, 45)\n",
    "data2 = np.append(data, 0)\n",
    "data3 = np.append(data, [45, -5])\n",
    "fig = plt.figure() \n",
    "plt.boxplot([data, data1, data2, data3]) \n",
    "plt.show() \n",
    "```"
   ]
  },
  {
   "cell_type": "code",
   "execution_count": null,
   "id": "3b687a7c-39f9-47b5-a4dd-ddeb699d5968",
   "metadata": {
    "editable": true,
    "slideshow": {
     "slide_type": ""
    },
    "tags": [
     "remove-cell"
    ]
   },
   "outputs": [],
   "source": []
  },
  {
   "cell_type": "markdown",
   "id": "674f2e33-1f60-4f5b-a344-ad6fca6ccf07",
   "metadata": {},
   "source": [
    "## Referências\n",
    "\n",
    "\n",
    "[MATPLOTLIB. Matploplib: Python plotting.](https://matplotlib.org/)\n",
    "\n",
    "**Outros materiais**\n",
    "\n",
    "[MATPLOTLIB. Sample plots in Matplotlib](https://matplotlib.org/tutorials/introductory/sample_plots.html).  \n",
    "[MATPLOTLIB.  matplotlib.pyplot.hist](https://matplotlib.org/api/_as_gen/matplotlib.pyplot.hist.html).  \n",
    "[MATPLOTLIB. matplotlib.pyplot.pie](https://matplotlib.org/api/_as_gen/matplotlib.pyplot.pie.html#matplotlib.pyplot.pie)  \n",
    "\n",
    "**Fontes das imagens**  \n",
    "\n",
    "[New York City at night HDR](https://commons.wikimedia.org/wiki/File:New_York_City_at_night_HDR.jpg)  \n",
    "[Snowy Åreskutan Ski lift](https://commons.wikimedia.org/wiki/File:Snowy_Åreskutan_Ski_lift.jpg#file)  \n",
    "[Vultures in the nest, Orchha, MP, India](https://commons.wikimedia.org/wiki/File:Vultures_in_the_nest,_Orchha,_MP,_India.jpg)  \n",
    "[Dead Sea sunrise](https://upload.wikimedia.org/wikipedia/commons/thumb/3/33/Dead_Sea_sunrise.jpg/640px-Dead_Sea_sunrise.jpg)  \n",
    "[Lanz Bulldog gets started](https://upload.wikimedia.org/wikipedia/commons/thumb/f/f5/Lanz_Bulldog_gets_started.JPG/480px-Lanz_Bulldog_gets_started.JPG)  \n",
    "\n",
    "\n",
    "\n",
    " \n",
    "\n",
    " "
   ]
  },
  {
   "cell_type": "markdown",
   "id": "c0dab30b-37af-4f98-85e3-eaadc9abd1cf",
   "metadata": {},
   "source": []
  },
  {
   "cell_type": "code",
   "execution_count": null,
   "id": "1c26e8f0-747f-40dc-9ef9-1cb707fcf5cf",
   "metadata": {},
   "outputs": [],
   "source": []
  }
 ],
 "metadata": {
  "kernelspec": {
   "display_name": "Python 3 (ipykernel)",
   "language": "python",
   "name": "python3"
  },
  "language_info": {
   "codemirror_mode": {
    "name": "ipython",
    "version": 3
   },
   "file_extension": ".py",
   "mimetype": "text/x-python",
   "name": "python",
   "nbconvert_exporter": "python",
   "pygments_lexer": "ipython3",
   "version": "3.11.6"
  }
 },
 "nbformat": 4,
 "nbformat_minor": 5
}
